{
 "cells": [
  {
   "cell_type": "code",
   "execution_count": 1,
   "id": "c49292b3",
   "metadata": {},
   "outputs": [],
   "source": [
    "# import the package that will be used \n",
    "from selenium import webdriver\n",
    "import pandas as pd\n",
    "import time # needed for time.sleep\n",
    "from selenium.webdriver.common.by import By\n",
    "from selenium.webdriver.support.ui import WebDriverWait\n",
    "from selenium.webdriver.support import expected_conditions as EC"
   ]
  },
  {
   "cell_type": "code",
   "execution_count": 2,
   "id": "81fb940e",
   "metadata": {},
   "outputs": [
    {
     "name": "stderr",
     "output_type": "stream",
     "text": [
      "C:\\Users\\huang\\AppData\\Local\\Temp\\ipykernel_8664\\1880581532.py:4: DeprecationWarning: executable_path has been deprecated, please pass in a Service object\n",
      "  driver = webdriver.Chrome(r'chromedriver.exe')\n"
     ]
    }
   ],
   "source": [
    "# create an empty list\n",
    "infolist=[]\n",
    "# navigate to google chrome\n",
    "driver = webdriver.Chrome(r'chromedriver.exe')"
   ]
  },
  {
   "cell_type": "code",
   "execution_count": 3,
   "id": "f364b992",
   "metadata": {},
   "outputs": [
    {
     "name": "stdout",
     "output_type": "stream",
     "text": [
      "keep running\n"
     ]
    },
    {
     "name": "stderr",
     "output_type": "stream",
     "text": [
      "C:\\Users\\huang\\AppData\\Local\\Temp\\ipykernel_8664\\1167133584.py:14: DeprecationWarning: find_elements_by_xpath is deprecated. Please use find_elements(by=By.XPATH, value=xpath) instead\n",
      "  title = driver.find_elements_by_xpath(\".//a[@class='jcs-JobTitle']/span\")\n",
      "C:\\Users\\huang\\AppData\\Local\\Temp\\ipykernel_8664\\1167133584.py:16: DeprecationWarning: find_elements_by_xpath is deprecated. Please use find_elements(by=By.XPATH, value=xpath) instead\n",
      "  company = driver.find_elements_by_xpath(\".//span[@class='companyName']\")\n",
      "C:\\Users\\huang\\AppData\\Local\\Temp\\ipykernel_8664\\1167133584.py:18: DeprecationWarning: find_elements_by_xpath is deprecated. Please use find_elements(by=By.XPATH, value=xpath) instead\n",
      "  location = driver.find_elements_by_xpath(\".//div[@class='companyLocation']\")\n"
     ]
    },
    {
     "data": {
      "text/plain": [
       "[('Associate Data Scientist', 'Highmark Health', 'Pennsylvania\\n+3 locations'),\n",
       " ('Lead Data Scientist', 'New Balance', 'Massachusetts'),\n",
       " ('OPS Data Scientist', 'University of Florida', 'Gainesville, FL 32611'),\n",
       " ('Bioinformatics Data Scientist', 'Engtal', '+2 locations\\nRemote'),\n",
       " ('Junior Data Scientist', 'Talentheed Inc', 'Remote'),\n",
       " ('Data Scientist', 'Visa', 'Arlington, VA\\n+6 locations'),\n",
       " ('Data Scientist', 'MAKE Corporation', 'Remote'),\n",
       " ('Data Scientist 2',\n",
       "  'The Coca-Cola Company',\n",
       "  'Atlanta, GA 30313\\n(Downtown area)\\n+1 location'),\n",
       " ('Data Scientist', \"Aaron's\", 'Remote'),\n",
       " ('Data Scientist', 'DISYS', 'Remote'),\n",
       " ('Machine Learning Scientist', 'Engtal', '+3 locations\\nRemote'),\n",
       " ('Data Scientist',\n",
       "  'US Federal Aviation Administration',\n",
       "  'Washington, DC 20591\\n(Southwest Federal Center area)'),\n",
       " ('Data Scientist - TikTok Account',\n",
       "  'TikTok',\n",
       "  'San Francisco, CA\\n+49 locations'),\n",
       " ('Data Scientist', 'Net2Aspire LLC', 'Remote'),\n",
       " ('Data Scientist (Remote)', 'Yelp', 'Remote')]"
      ]
     },
     "execution_count": 3,
     "metadata": {},
     "output_type": "execute_result"
    }
   ],
   "source": [
    "# try single page\n",
    "\n",
    "url = 'https://www.indeed.com/jobs?q=data+scientist&start=0'   #the first link\n",
    "driver.get(url)\n",
    "\n",
    "try:\n",
    "    WebDriverWait(driver, 0.3).until(EC.presence_of_element_located((By.ID, \"popover-foreground\")))\n",
    "    driver.find_element(By.ID, \"popover-x\").click()\n",
    "    print(\"dialog closed\")\n",
    "except:\n",
    "    print(\"keep running\")\n",
    "\n",
    "# extract the job title\n",
    "title = driver.find_elements_by_xpath(\".//a[@class='jcs-JobTitle']/span\")\n",
    "# extract the company name\n",
    "company = driver.find_elements_by_xpath(\".//span[@class='companyName']\")\n",
    "# extract the position location\n",
    "location = driver.find_elements_by_xpath(\".//div[@class='companyLocation']\")\n",
    "\n",
    "title_list = []\n",
    "for T in title:\n",
    "    title_list.append(T.get_attribute('title'))\n",
    "\n",
    "company_list = []\n",
    "for C in range(len(company)):\n",
    "    company_list.append(company[C].text)\n",
    "\n",
    "location_list = []\n",
    "for L in range(len(location)):\n",
    "    location_list.append(location[L].text)\n",
    "\n",
    "pagelist = list(zip(title_list,company_list, location_list)) \n",
    "pagelist"
   ]
  },
  {
   "cell_type": "code",
   "execution_count": 4,
   "id": "de72c647",
   "metadata": {},
   "outputs": [
    {
     "name": "stdout",
     "output_type": "stream",
     "text": [
      "dialog closed\n"
     ]
    },
    {
     "name": "stderr",
     "output_type": "stream",
     "text": [
      "C:\\Users\\huang\\AppData\\Local\\Temp\\ipykernel_8664\\554088653.py:24: DeprecationWarning: find_elements_by_xpath is deprecated. Please use find_elements(by=By.XPATH, value=xpath) instead\n",
      "  title = driver.find_elements_by_xpath(\".//a[@class='jcs-JobTitle']/span\")\n",
      "C:\\Users\\huang\\AppData\\Local\\Temp\\ipykernel_8664\\554088653.py:27: DeprecationWarning: find_elements_by_xpath is deprecated. Please use find_elements(by=By.XPATH, value=xpath) instead\n",
      "  company = driver.find_elements_by_xpath(\".//span[@class='companyName']\")\n",
      "C:\\Users\\huang\\AppData\\Local\\Temp\\ipykernel_8664\\554088653.py:30: DeprecationWarning: find_elements_by_xpath is deprecated. Please use find_elements(by=By.XPATH, value=xpath) instead\n",
      "  location = driver.find_elements_by_xpath(\".//div[@class='companyLocation']\")\n"
     ]
    },
    {
     "name": "stdout",
     "output_type": "stream",
     "text": [
      "keep visiting https://www.indeed.com/jobs?q=data+scientist&start=10\n",
      "keep visiting https://www.indeed.com/jobs?q=data+scientist&start=20\n",
      "keep visiting https://www.indeed.com/jobs?q=data+scientist&start=30\n",
      "keep visiting https://www.indeed.com/jobs?q=data+scientist&start=40\n",
      "keep visiting https://www.indeed.com/jobs?q=data+scientist&start=50\n",
      "keep visiting https://www.indeed.com/jobs?q=data+scientist&start=60\n",
      "keep visiting https://www.indeed.com/jobs?q=data+scientist&start=70\n",
      "keep visiting https://www.indeed.com/jobs?q=data+scientist&start=80\n",
      "keep visiting https://www.indeed.com/jobs?q=data+scientist&start=90\n"
     ]
    }
   ],
   "source": [
    "# grab job information from the first 10 pages\n",
    "\n",
    "# set empty lists to save title, company, and location\n",
    "title_list = []\n",
    "company_list = []\n",
    "location_list = []\n",
    "\n",
    "# loop from page 1 to page 10\n",
    "for page in range(0,100,10):\n",
    "        page_num = str(page)\n",
    "        url = 'https://www.indeed.com/jobs?q=data+scientist&start=' + page_num   #10-pages links\n",
    "        driver.get(url) # navigate all the urls\n",
    "        time.sleep(1)\n",
    "        \n",
    "        # close dialog if it has\n",
    "        try:\n",
    "            WebDriverWait(driver, 0.3).until(EC.presence_of_element_located((By.ID, \"popover-foreground\")))\n",
    "            driver.find_element(By.ID, \"popover-x\").click()\n",
    "            print(\"dialog closed\")\n",
    "        except:\n",
    "            print(\"keep visiting \"+ url)\n",
    "        \n",
    "        # extract the job title\n",
    "        title = driver.find_elements_by_xpath(\".//a[@class='jcs-JobTitle']/span\")\n",
    "\n",
    "        # extract the company name\n",
    "        company = driver.find_elements_by_xpath(\".//span[@class='companyName']\")\n",
    "\n",
    "        # extract the position location\n",
    "        location = driver.find_elements_by_xpath(\".//div[@class='companyLocation']\")\n",
    "\n",
    "        # organized the infomation extracted into list     \n",
    "        for T in title:\n",
    "            title_list.append(T.get_attribute('title'))\n",
    "\n",
    "        for C in range(len(company)):\n",
    "            company_list.append(company[C].text)\n",
    "\n",
    "        for L in range(len(location)):\n",
    "            location_list.append(location[L].text) "
   ]
  },
  {
   "cell_type": "code",
   "execution_count": 5,
   "id": "03a0e6d8",
   "metadata": {},
   "outputs": [],
   "source": [
    "# zip position, company and location together\n",
    "data_tuples = list(zip(title_list[1:],company_list[1:], location_list[1:])) "
   ]
  },
  {
   "cell_type": "code",
   "execution_count": 6,
   "id": "735baaf9",
   "metadata": {},
   "outputs": [
    {
     "data": {
      "text/html": [
       "<div>\n",
       "<style scoped>\n",
       "    .dataframe tbody tr th:only-of-type {\n",
       "        vertical-align: middle;\n",
       "    }\n",
       "\n",
       "    .dataframe tbody tr th {\n",
       "        vertical-align: top;\n",
       "    }\n",
       "\n",
       "    .dataframe thead th {\n",
       "        text-align: right;\n",
       "    }\n",
       "</style>\n",
       "<table border=\"1\" class=\"dataframe\">\n",
       "  <thead>\n",
       "    <tr style=\"text-align: right;\">\n",
       "      <th></th>\n",
       "      <th>title</th>\n",
       "      <th>company</th>\n",
       "      <th>location</th>\n",
       "    </tr>\n",
       "  </thead>\n",
       "  <tbody>\n",
       "    <tr>\n",
       "      <th>0</th>\n",
       "      <td>Lead Data Scientist</td>\n",
       "      <td>New Balance</td>\n",
       "      <td>Massachusetts</td>\n",
       "    </tr>\n",
       "    <tr>\n",
       "      <th>1</th>\n",
       "      <td>OPS Data Scientist</td>\n",
       "      <td>University of Florida</td>\n",
       "      <td>Gainesville, FL 32611</td>\n",
       "    </tr>\n",
       "    <tr>\n",
       "      <th>2</th>\n",
       "      <td>Bioinformatics Data Scientist</td>\n",
       "      <td>Engtal</td>\n",
       "      <td>+2 locations\\nRemote</td>\n",
       "    </tr>\n",
       "    <tr>\n",
       "      <th>3</th>\n",
       "      <td>Junior Data Scientist</td>\n",
       "      <td>Talentheed Inc</td>\n",
       "      <td>Remote</td>\n",
       "    </tr>\n",
       "    <tr>\n",
       "      <th>4</th>\n",
       "      <td>Data Scientist</td>\n",
       "      <td>Visa</td>\n",
       "      <td>Arlington, VA\\n+6 locations</td>\n",
       "    </tr>\n",
       "    <tr>\n",
       "      <th>...</th>\n",
       "      <td>...</td>\n",
       "      <td>...</td>\n",
       "      <td>...</td>\n",
       "    </tr>\n",
       "    <tr>\n",
       "      <th>144</th>\n",
       "      <td>Junior Data Scientist</td>\n",
       "      <td>Kadence International</td>\n",
       "      <td>Remote</td>\n",
       "    </tr>\n",
       "    <tr>\n",
       "      <th>145</th>\n",
       "      <td>Data Scientist</td>\n",
       "      <td>eTailPet, Inc.</td>\n",
       "      <td>Remote</td>\n",
       "    </tr>\n",
       "    <tr>\n",
       "      <th>146</th>\n",
       "      <td>CO-OP, DATA SCIENCE</td>\n",
       "      <td>PUMA</td>\n",
       "      <td>Somerville, MA</td>\n",
       "    </tr>\n",
       "    <tr>\n",
       "      <th>147</th>\n",
       "      <td>Data Scientist (Big Data Engineer) -only Texas</td>\n",
       "      <td>Esolvit Inc.,</td>\n",
       "      <td>Remote</td>\n",
       "    </tr>\n",
       "    <tr>\n",
       "      <th>148</th>\n",
       "      <td>Data Scientist - Machine Learning</td>\n",
       "      <td>Boston Children's Hospital</td>\n",
       "      <td>Boston, MA 02115\\n(Mission Hill area)\\n+1 loca...</td>\n",
       "    </tr>\n",
       "  </tbody>\n",
       "</table>\n",
       "<p>149 rows × 3 columns</p>\n",
       "</div>"
      ],
      "text/plain": [
       "                                              title  \\\n",
       "0                               Lead Data Scientist   \n",
       "1                                OPS Data Scientist   \n",
       "2                     Bioinformatics Data Scientist   \n",
       "3                             Junior Data Scientist   \n",
       "4                                    Data Scientist   \n",
       "..                                              ...   \n",
       "144                           Junior Data Scientist   \n",
       "145                                  Data Scientist   \n",
       "146                             CO-OP, DATA SCIENCE   \n",
       "147  Data Scientist (Big Data Engineer) -only Texas   \n",
       "148               Data Scientist - Machine Learning   \n",
       "\n",
       "                        company  \\\n",
       "0                   New Balance   \n",
       "1         University of Florida   \n",
       "2                        Engtal   \n",
       "3                Talentheed Inc   \n",
       "4                          Visa   \n",
       "..                          ...   \n",
       "144       Kadence International   \n",
       "145              eTailPet, Inc.   \n",
       "146                        PUMA   \n",
       "147               Esolvit Inc.,   \n",
       "148  Boston Children's Hospital   \n",
       "\n",
       "                                              location  \n",
       "0                                        Massachusetts  \n",
       "1                                Gainesville, FL 32611  \n",
       "2                                 +2 locations\\nRemote  \n",
       "3                                               Remote  \n",
       "4                          Arlington, VA\\n+6 locations  \n",
       "..                                                 ...  \n",
       "144                                             Remote  \n",
       "145                                             Remote  \n",
       "146                                     Somerville, MA  \n",
       "147                                             Remote  \n",
       "148  Boston, MA 02115\\n(Mission Hill area)\\n+1 loca...  \n",
       "\n",
       "[149 rows x 3 columns]"
      ]
     },
     "execution_count": 6,
     "metadata": {},
     "output_type": "execute_result"
    }
   ],
   "source": [
    "# save the tuple as a dataframe\n",
    "df = pd.DataFrame(data_tuples, columns= ['title','company','location']) \n",
    "df"
   ]
  },
  {
   "cell_type": "code",
   "execution_count": 7,
   "id": "f0775acc",
   "metadata": {},
   "outputs": [],
   "source": [
    "# save the dataframe as a csv file\n",
    "df.to_csv('job_details_df.csv', encoding='utf-8', index=False)"
   ]
  }
 ],
 "metadata": {
  "kernelspec": {
   "display_name": "Python 3 (ipykernel)",
   "language": "python",
   "name": "python3"
  },
  "language_info": {
   "codemirror_mode": {
    "name": "ipython",
    "version": 3
   },
   "file_extension": ".py",
   "mimetype": "text/x-python",
   "name": "python",
   "nbconvert_exporter": "python",
   "pygments_lexer": "ipython3",
   "version": "3.9.12"
  }
 },
 "nbformat": 4,
 "nbformat_minor": 5
}
